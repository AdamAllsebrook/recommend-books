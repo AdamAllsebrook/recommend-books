{
 "cells": [
  {
   "cell_type": "code",
   "execution_count": null,
   "metadata": {},
   "outputs": [],
   "source": [
    "import gzip\n",
    "import json\n",
    "import re\n",
    "import os\n",
    "import sys\n",
    "import time\n",
    "import numpy as np\n",
    "import pandas as pd\n",
    "from itertools import islice\n",
    "import psycopg2\n",
    "from psycopg2.extras import execute_values\n",
    "pd.options.display.float_format = '{:,}'.format\n",
    "\n",
    "def batched(iterable, n):\n",
    "    \"Batch data into tuples of length n. The last batch may be shorter.\"\n",
    "    # batched('ABCDEFG', 3) --> ABC DEF G\n",
    "    if n < 1:\n",
    "        raise ValueError('n must be at least one')\n",
    "    it = iter(iterable)\n",
    "    while (batch := tuple(islice(it, n))):\n",
    "        yield batch\n",
    "\n",
    "# convert string to int or none\n",
    "def parseInt(string):\n",
    "    return int(float(string)) if string else None"
   ]
  },
  {
   "cell_type": "code",
   "execution_count": null,
   "metadata": {},
   "outputs": [],
   "source": [
    "con = psycopg2.connect(\n",
    "    host=\"localhost\",\n",
    "    database=\"reviews\",\n",
    "    user=\"postgres\",\n",
    "    password=\"postgres\"\n",
    "    )\n",
    "cur = con.cursor()\n",
    "\n",
    "con_lite = psycopg2.connect(\n",
    "    host=\"localhost\",\n",
    "    database=\"reviews_lite\",\n",
    "    user=\"postgres\",\n",
    "    password=\"postgres\"\n",
    "    )\n",
    "cur_lite = con_lite.cursor()"
   ]
  },
  {
   "cell_type": "code",
   "execution_count": null,
   "metadata": {},
   "outputs": [],
   "source": [
    "cur_lite.execute('select id from review_embed')\n",
    "review_ids = cur_lite.fetchall()\n",
    "\n",
    "for review_id in review_ids:\n",
    "    cur.execute(\"select * from review where id = %s\", review_id)\n",
    "    review = cur.fetchone()\n",
    "    cur.execute('select * from book where id = %s' % review[1])\n",
    "    book = cur.fetchone()\n",
    "\n",
    "    cur.execute('select id, name from author left join authorForBook on author.id = authorForBook.authorId where bookId = %s' % book[0])\n",
    "    authors = cur.fetchall()\n",
    "\n",
    "    cur.execute('select * from authorForBook where bookId = %s' % book[0])\n",
    "    authorsForBook = cur.fetchall()\n",
    "\n",
    "    cur.execute('select * from work where id = %s' % book[1])\n",
    "    work = cur.fetchone()\n",
    "\n",
    "    cur_lite.execute('select * from work where id = %s' % work[0])\n",
    "    work_lite = cur_lite.fetchone()\n",
    "\n",
    "    if work_lite is None:\n",
    "        cur_lite.execute('insert into work values (%s, %s, %s)', work)\n",
    "\n",
    "    cur_lite.execute('select * from book where id = %s' % book[0])\n",
    "    book_lite = cur_lite.fetchone()\n",
    "\n",
    "    if book_lite is None:\n",
    "        cur_lite.execute('insert into book values (%s, %s, %s, %s, %s, %s, %s, %s)', book)\n",
    "\n",
    "        if book[7] and work[1] == '':\n",
    "            cur_lite.execute('update work set title = %s where id = %s', (book[3], work[0]))\n",
    "\n",
    "        for author in authors:\n",
    "            cur_lite.execute('select * from author where id = %s' % author[0])\n",
    "            author_lite = cur_lite.fetchone()\n",
    "\n",
    "            if author_lite is None:\n",
    "                cur_lite.execute('insert into author values (%s, %s)', author)\n",
    "\n",
    "        for authorForBook in authorsForBook:\n",
    "            cur_lite.execute('insert into authorForBook values (%s, %s, %s)', authorForBook)\n",
    "con_lite.commit()"
   ]
  },
  {
   "cell_type": "code",
   "execution_count": null,
   "metadata": {},
   "outputs": [],
   "source": [
    "cur_lite.execute('select id from review_embed')\n",
    "review_ids = cur_lite.fetchall()\n",
    "for review_id in review_ids:\n",
    "\n",
    "    cur.execute(\"select * from review where id = %s\", review_id)\n",
    "    review = cur.fetchone()\n",
    "    cur.execute('select * from book where id = %s' % review[1])\n",
    "    book = cur.fetchone()\n",
    "\n",
    "    cur_lite.execute('insert into review values (%s, %s)', (review_id, book[0]))\n",
    "\n",
    "con_lite.commit()"
   ]
  },
  {
   "cell_type": "code",
   "execution_count": null,
   "metadata": {},
   "outputs": [],
   "source": [
    "from sentence_transformers import SentenceTransformer\n",
    "model_name = 'all-MiniLM-L6-v2'\n",
    "model = SentenceTransformer(model_name)"
   ]
  },
  {
   "cell_type": "code",
   "execution_count": null,
   "metadata": {},
   "outputs": [],
   "source": [
    "query_embedding = model.encode('modern sci-fi with a focus on big interesting ideas')\n",
    "cur_lite.execute('''\n",
    "            select book.title\n",
    "            from review_embed\n",
    "            inner join review on review_embed.id = review.id\n",
    "            inner join book on review.bookId = book.id\n",
    "            order by embedding <=> '%s'\n",
    "            limit 15\n",
    "''' % query_embedding.tolist())\n",
    "\n",
    "df = pd.DataFrame(cur_lite.fetchall(), columns=['title'])"
   ]
  },
  {
   "cell_type": "code",
   "execution_count": null,
   "metadata": {},
   "outputs": [],
   "source": [
    "df"
   ]
  },
  {
   "cell_type": "code",
   "execution_count": null,
   "metadata": {},
   "outputs": [],
   "source": [
    "con_lite.commit()"
   ]
  }
 ],
 "metadata": {
  "kernelspec": {
   "display_name": "env",
   "language": "python",
   "name": "python3"
  },
  "language_info": {
   "codemirror_mode": {
    "name": "ipython",
    "version": 3
   },
   "file_extension": ".py",
   "mimetype": "text/x-python",
   "name": "python",
   "nbconvert_exporter": "python",
   "pygments_lexer": "ipython3",
   "version": "3.10.7"
  }
 },
 "nbformat": 4,
 "nbformat_minor": 2
}
