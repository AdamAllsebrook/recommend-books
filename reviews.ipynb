{
 "cells": [
  {
   "cell_type": "markdown",
   "metadata": {},
   "source": [
    "Data from here: https://mengtingwan.github.io/data/goodreads.html#datasets\n"
   ]
  },
  {
   "cell_type": "code",
   "execution_count": null,
   "metadata": {},
   "outputs": [],
   "source": [
    "import gzip\n",
    "import json\n",
    "import re\n",
    "import os\n",
    "import sys\n",
    "import numpy as np\n",
    "import pandas as pd\n",
    "from itertools import islice\n",
    "import psycopg2\n",
    "from psycopg2.extras import execute_values\n",
    "pd.options.display.float_format = '{:,}'.format\n",
    "\n",
    "def batched(iterable, n):\n",
    "    \"Batch data into tuples of length n. The last batch may be shorter.\"\n",
    "    # batched('ABCDEFG', 3) --> ABC DEF G\n",
    "    if n < 1:\n",
    "        raise ValueError('n must be at least one')\n",
    "    it = iter(iterable)\n",
    "    while (batch := tuple(islice(it, n))):\n",
    "        yield batch"
   ]
  },
  {
   "cell_type": "code",
   "execution_count": null,
   "metadata": {},
   "outputs": [],
   "source": [
    "# setup db\n",
    "\n",
    "con = psycopg2.connect(\n",
    "    host=\"localhost\",\n",
    "    database=\"reviews\",\n",
    "    user=\"postgres\",\n",
    "    password=\"postgres\"\n",
    "    )\n",
    "cur = con.cursor()\n",
    "\n",
    "# todo support for multiple authors\n",
    "cur.execute('''CREATE TABLE IF NOT EXISTS book(\n",
    "            id TEXT PRIMARY KEY, \n",
    "            title TEXT NOT NULL, \n",
    "            author TEXT NOT NULL, \n",
    "            url TEXT NOT NULL, \n",
    "            year TEXT NOT NULL, \n",
    "            rating TEXT NOT NULL\n",
    "            )''')\n",
    "cur.execute('''CREATE TABLE IF NOT EXISTS review(\n",
    "            id TEXT PRIMARY KEY, \n",
    "            bookId TEXT NOT NULL, \n",
    "            userId TEXT NOT NULL, \n",
    "            rating INTEGER NOT NULL, \n",
    "            text TEXT NOT NULL, \n",
    "            date TEXT NOT NULL, \n",
    "            nVotes TEXT NOT NULL,\n",
    "            FOREIGN KEY (bookId) \n",
    "            REFERENCES book (id)\n",
    "            ON UPDATE CASCADE ON DELETE CASCADE\n",
    "    )''')\n",
    "con.commit()"
   ]
  },
  {
   "cell_type": "markdown",
   "metadata": {},
   "source": [
    "# Create db"
   ]
  },
  {
   "cell_type": "code",
   "execution_count": null,
   "metadata": {},
   "outputs": [],
   "source": [
    "# save books into db\n",
    "file_name = 'goodreads_books.json.gz'\n",
    "with gzip.open(file_name) as books:\n",
    "    data = [\n",
    "        (\n",
    "            d['book_id'], \n",
    "            d['title'], \n",
    "            d['authors'][0]['author_id'] if len(d['authors']) > 0 else 'No Listed Author', \n",
    "            d['link'], \n",
    "            d['publication_year'], \n",
    "            d['average_rating']\n",
    "            )\n",
    "        for book in books\n",
    "        # check if it is already in the db\n",
    "        # if cur.execute('select id from book where id = ?', (d := json.loads(l))['book_id']).fetchone() is not None\n",
    "        if (d := json.loads(book))\n",
    "    ]\n",
    "    execute_values(cur, 'insert into book values %s', data)\n",
    "    con.commit()\n"
   ]
  },
  {
   "cell_type": "code",
   "execution_count": null,
   "metadata": {},
   "outputs": [],
   "source": [
    "# save reviews into db\n",
    "file_name = 'goodreads_reviews_dedup.json.gz'\n",
    "with gzip.open(file_name) as reviews:\n",
    "    for i, review_batch in enumerate(batched(reviews, 1_000_000)):\n",
    "        data = [\n",
    "            (\n",
    "                d['review_id'],\n",
    "                d['book_id'],\n",
    "                d['user_id'],\n",
    "                d['rating'],\n",
    "                d['review_text'],\n",
    "                d['date_added'],\n",
    "                d['n_votes']\n",
    "            )\n",
    "            for review in review_batch\n",
    "            if (d := json.loads(review))\n",
    "        ]\n",
    "        execute_values(cur, 'insert into review values %s', data)\n",
    "        con.commit()\n",
    "        print(f'{i+1} batches processed')\n",
    "        "
   ]
  },
  {
   "cell_type": "markdown",
   "metadata": {},
   "source": [
    "# Process Data"
   ]
  },
  {
   "cell_type": "code",
   "execution_count": null,
   "metadata": {},
   "outputs": [],
   "source": [
    "# do sum instead of 'count(book.id)' as count() will count every row, even nulls meaning every book would have at least 1 review\n",
    "cur.execute('''\n",
    "            select book.id, title, sum((case when review.bookId is not null then 1 else 0 end))\n",
    "            from book \n",
    "            left join review on book.id = review.bookId \n",
    "            group by book.id \n",
    "            order by sum((case when review.bookId is not null then 1 else 0 end)) desc\n",
    "            ''')\n",
    "df = pd.DataFrame(cur.fetchall(), columns=['id', 'title', 'count'])"
   ]
  },
  {
   "cell_type": "code",
   "execution_count": null,
   "metadata": {},
   "outputs": [],
   "source": [
    "df['count'].plot(kind='hist', logy=True, bins=100);"
   ]
  },
  {
   "cell_type": "code",
   "execution_count": null,
   "metadata": {},
   "outputs": [],
   "source": [
    "df[df['count'] < 1000]['count'].plot(kind='hist', logy=True, bins=100);"
   ]
  },
  {
   "cell_type": "code",
   "execution_count": null,
   "metadata": {},
   "outputs": [],
   "source": [
    "df[df['count'] < 100]['count'].plot(kind='hist', logy=True, bins=100);"
   ]
  },
  {
   "cell_type": "code",
   "execution_count": null,
   "metadata": {},
   "outputs": [],
   "source": []
  }
 ],
 "metadata": {
  "kernelspec": {
   "display_name": "env",
   "language": "python",
   "name": "python3"
  },
  "language_info": {
   "codemirror_mode": {
    "name": "ipython",
    "version": 3
   },
   "file_extension": ".py",
   "mimetype": "text/x-python",
   "name": "python",
   "nbconvert_exporter": "python",
   "pygments_lexer": "ipython3",
   "version": "3.10.7"
  }
 },
 "nbformat": 4,
 "nbformat_minor": 2
}
