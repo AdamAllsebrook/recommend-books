{
 "cells": [
  {
   "cell_type": "markdown",
   "metadata": {},
   "source": [
    "Data from here: https://mengtingwan.github.io/data/goodreads.html#datasets\n"
   ]
  },
  {
   "cell_type": "code",
   "execution_count": null,
   "metadata": {},
   "outputs": [],
   "source": [
    "import gzip\n",
    "import json\n",
    "import re\n",
    "import os\n",
    "import sys\n",
    "import numpy as np\n",
    "import pandas as pd\n",
    "from itertools import islice\n",
    "import psycopg2\n",
    "from psycopg2.extras import execute_values\n",
    "pd.options.display.float_format = '{:,}'.format\n",
    "\n",
    "def batched(iterable, n):\n",
    "    \"Batch data into tuples of length n. The last batch may be shorter.\"\n",
    "    # batched('ABCDEFG', 3) --> ABC DEF G\n",
    "    if n < 1:\n",
    "        raise ValueError('n must be at least one')\n",
    "    it = iter(iterable)\n",
    "    while (batch := tuple(islice(it, n))):\n",
    "        yield batch\n",
    "\n",
    "# convert string to int or none\n",
    "def parseInt(string):\n",
    "    return int(float(string)) if string else None"
   ]
  },
  {
   "cell_type": "code",
   "execution_count": null,
   "metadata": {},
   "outputs": [],
   "source": [
    "# setup db\n",
    "\n",
    "con = psycopg2.connect(\n",
    "    host=\"localhost\",\n",
    "    database=\"reviews\",\n",
    "    user=\"postgres\",\n",
    "    password=\"postgres\"\n",
    "    )\n",
    "cur = con.cursor()\n",
    "\n",
    "cur.execute('''\n",
    "            CREATE TABLE IF NOT EXISTS work(\n",
    "                id INTEGER PRIMARY KEY,\n",
    "                title TEXT NOT NULL,\n",
    "                year INTEGER\n",
    "            )''')\n",
    "cur.execute('''\n",
    "            CREATE TABLE IF NOT EXISTS author(\n",
    "                id INTEGER PRIMARY KEY,\n",
    "                name TEXT NOT NULL\n",
    "            )''')\n",
    "cur.execute('''\n",
    "            CREATE TABLE IF NOT EXISTS book(\n",
    "                id INTEGER PRIMARY KEY,\n",
    "                workId INTEGER NOT NULL,\n",
    "                title TEXT NOT NULL,\n",
    "                titleWithoutSeries TEXT NOT NULL,\n",
    "                url TEXT NOT NULL, \n",
    "                year INTEGER,\n",
    "                rating REAL,\n",
    "                bestOfWork BOOLEAN NOT NULL,\n",
    "                FOREIGN KEY (workId)\n",
    "                    REFERENCES work (id)\n",
    "                    ON UPDATE CASCADE ON DELETE CASCADE\n",
    "            )''')\n",
    "cur.execute('''\n",
    "            CREATE TABLE IF NOT EXISTS authorForBook(\n",
    "                bookId INTEGER NOT NULL,\n",
    "                authorId INTEGER NOT NULL,\n",
    "                role TEXT,\n",
    "                PRIMARY KEY (bookId, authorId),\n",
    "                FOREIGN KEY (bookId)\n",
    "                    REFERENCES book(id)\n",
    "                    ON UPDATE CASCADE ON DELETE CASCADE,\n",
    "                FOREIGN KEY (authorId)\n",
    "                    REFERENCES author (id)\n",
    "                    ON UPDATE CASCADE ON DELETE CASCADE\n",
    "            )\n",
    "            ''')\n",
    "cur.execute('''\n",
    "            CREATE TABLE IF NOT EXISTS review(\n",
    "                id TEXT PRIMARY KEY, \n",
    "                bookId INTEGER NOT NULL,\n",
    "                rating INTEGER, \n",
    "                text TEXT NOT NULL, \n",
    "                date TEXT NOT NULL, \n",
    "                nVotes INTEGER NOT NULL,\n",
    "                FOREIGN KEY (bookId) \n",
    "                    REFERENCES book (id)\n",
    "                    ON UPDATE CASCADE ON DELETE CASCADE\n",
    "            )''')\n",
    "con.commit()"
   ]
  },
  {
   "cell_type": "markdown",
   "metadata": {},
   "source": [
    "# Save data into db"
   ]
  },
  {
   "cell_type": "code",
   "execution_count": null,
   "metadata": {},
   "outputs": [],
   "source": [
    "# works\n",
    "bestBooksForWorks = {}\n",
    "file_name = 'goodreads_book_works.json.gz'\n",
    "with gzip.open(file_name) as works:\n",
    "    data = []\n",
    "    for work in works:\n",
    "        d = json.loads(work)\n",
    "        data.append(\n",
    "            (\n",
    "                int(d['work_id']), \n",
    "                d['original_title'],\n",
    "                parseInt(d['original_publication_year'])\n",
    "                )\n",
    "        )\n",
    "        bestBooksForWorks[int(d['work_id'])] = int(d['best_book_id'])\n",
    "    execute_values(cur, 'insert into work values %s', data)\n",
    "    con.commit()"
   ]
  },
  {
   "cell_type": "code",
   "execution_count": null,
   "metadata": {},
   "outputs": [],
   "source": [
    "bestBooksForWorks = {}\n",
    "file_name = 'goodreads_book_works.json.gz'\n",
    "with gzip.open(file_name) as works:\n",
    "    data = []\n",
    "    for work in works:\n",
    "        d = json.loads(work)\n",
    "        if d['original_title'] == '':\n",
    "            print(d)"
   ]
  },
  {
   "cell_type": "code",
   "execution_count": null,
   "metadata": {},
   "outputs": [],
   "source": [
    "# authors\n",
    "file_name = 'goodreads_book_authors.json.gz'\n",
    "with gzip.open(file_name) as authors:\n",
    "    data = [\n",
    "        (\n",
    "            d['author_id'], \n",
    "            d['name'],\n",
    "            )\n",
    "        for author in authors\n",
    "        if (d := json.loads(author))\n",
    "    ]\n",
    "    execute_values(cur, 'insert into author values %s', data)\n",
    "    con.commit()"
   ]
  },
  {
   "cell_type": "code",
   "execution_count": null,
   "metadata": {},
   "outputs": [],
   "source": [
    "# books\n",
    "file_name = 'goodreads_books.json.gz'\n",
    "with gzip.open(file_name) as books:\n",
    "    data = []\n",
    "    author_data = []\n",
    "    for book in books:\n",
    "        d = json.loads(book)\n",
    "        if d['work_id'] == '':\n",
    "            continue\n",
    "        data.append(\n",
    "            (\n",
    "                int(d['book_id']),\n",
    "                int(d['work_id']),\n",
    "                d['title'], \n",
    "                d['title_without_series'],\n",
    "                d['link'], \n",
    "                parseInt(d['publication_year']), \n",
    "                parseInt(d['average_rating']),\n",
    "                bestBooksForWorks[int(d['work_id'])] == int(d['book_id'])\n",
    "            )\n",
    "        )\n",
    "        for author in d['authors']:\n",
    "            author_data.append(\n",
    "                (\n",
    "                    int(d['book_id']),\n",
    "                    int(author['author_id']),\n",
    "                    author['role']\n",
    "                )\n",
    "            )\n",
    "    execute_values(cur, 'insert into book values %s', data)\n",
    "    execute_values(cur, 'insert into authorForBook values %s on conflict do nothing', author_data)\n",
    "    con.commit()\n"
   ]
  },
  {
   "cell_type": "code",
   "execution_count": null,
   "metadata": {},
   "outputs": [],
   "source": [
    "# reviews\n",
    "file_name = 'goodreads_reviews_dedup.json.gz'\n",
    "with gzip.open(file_name) as reviews:\n",
    "    for i, review_batch in enumerate(batched(reviews, 1_000_000)):\n",
    "        data = []\n",
    "        for review in review_batch:\n",
    "            d = json.loads(review)\n",
    "            cur.execute(f'select * from book where id = {int(d[\"book_id\"])}')\n",
    "            if cur.fetchone() is not None:\n",
    "                data.append(\n",
    "                    (\n",
    "                        d['review_id'],\n",
    "                        int(d['book_id']),\n",
    "                        parseInt(d['rating']),\n",
    "                        d['review_text'],\n",
    "                        d['date_added'],\n",
    "                        int(d['n_votes'])\n",
    "                    )\n",
    "                )\n",
    "        execute_values(cur, 'insert into review values %s', data)\n",
    "\n",
    "        # trying to avoid errors on reviews without a book in db without querying everytime but didn't work \n",
    "        # execute_values(cur, '''\n",
    "        #     insert into review(id, bookId, rating, text, date, nVotes) \n",
    "        #     select val.id, val.bookId, val.rating, val.text, val.date, val.nVotes\n",
    "        #     from (\n",
    "        #         values %s\n",
    "        #     ) val (id, bookId, rating, text, date, nVotes)\n",
    "        #     join book on book.id = val.bookId\n",
    "        #     ''', data)\n",
    "        con.commit()\n",
    "        print(f'{i+1} batches processed')\n",
    "        "
   ]
  },
  {
   "cell_type": "markdown",
   "metadata": {},
   "source": [
    "# Data Overview"
   ]
  },
  {
   "cell_type": "code",
   "execution_count": null,
   "metadata": {},
   "outputs": [],
   "source": [
    "# do sum instead of 'count(book.id)' as count() will count every row, even nulls meaning every book would have at least 1 review\n",
    "cur.execute('''\n",
    "            select book.id, title, sum((case when review.bookId is not null then 1 else 0 end))\n",
    "            from book \n",
    "            left join review on book.id = review.bookId \n",
    "            group by book.id \n",
    "            order by sum((case when review.bookId is not null then 1 else 0 end)) desc\n",
    "            ''')\n",
    "df = pd.DataFrame(cur.fetchall(), columns=['id', 'title', 'count'])"
   ]
  },
  {
   "cell_type": "code",
   "execution_count": null,
   "metadata": {},
   "outputs": [],
   "source": [
    "df['count'].plot(kind='hist', logy=True, bins=100);"
   ]
  },
  {
   "cell_type": "code",
   "execution_count": null,
   "metadata": {},
   "outputs": [],
   "source": [
    "df[df['count'] < 1000]['count'].plot(kind='hist', logy=True, bins=100);"
   ]
  },
  {
   "cell_type": "code",
   "execution_count": null,
   "metadata": {},
   "outputs": [],
   "source": [
    "df[df['count'] < 100]['count'].plot(kind='hist', logy=True, bins=100);"
   ]
  },
  {
   "cell_type": "code",
   "execution_count": null,
   "metadata": {},
   "outputs": [],
   "source": [
    "for n in [10, 20, 50, 100, 200]:\n",
    "    print(f'Taking only books with at least {n} reviews:')\n",
    "    print(f'{len(df[df[\"count\"] >= n])} books with {df[df[\"count\"] >= n][\"count\"].sum()} total reviews\\n')\n",
    "    "
   ]
  },
  {
   "cell_type": "markdown",
   "metadata": {},
   "source": [
    "# Embeddings"
   ]
  },
  {
   "cell_type": "code",
   "execution_count": null,
   "metadata": {},
   "outputs": [],
   "source": [
    "from sentence_transformers import SentenceTransformer, util"
   ]
  },
  {
   "cell_type": "code",
   "execution_count": null,
   "metadata": {},
   "outputs": [],
   "source": [
    "model = SentenceTransformer('all-MiniLM-L6-v2')\n"
   ]
  },
  {
   "cell_type": "code",
   "execution_count": null,
   "metadata": {},
   "outputs": [],
   "source": [
    "cur.execute('''\n",
    "            CREATE TABLE model (\n",
    "                id SERIAL PRIMARY KEY,\n",
    "                name TEXT NOT NULL,\n",
    "            )\n",
    "''')\n",
    "cur.execute('''\n",
    "        create table review_embed (\n",
    "            id INTEGER PRIMARY KEY,\n",
    "            modelId INTEGER NOT NULL,\n",
    "            embedding vector(384) NOT NULL,\n",
    "            FOREIGN KEY (id)\n",
    "                REFERENCES review (id)\n",
    "                ON UPDATE CASCADE ON DELETE CASCADE\n",
    "            FOREIGN KEY (modelId)\n",
    "                REFERENCES model (id)\n",
    "                ON UPDATE CASCADE ON DELETE CASCADE\n",
    "        );\n",
    "''')\n",
    "con.commit()"
   ]
  },
  {
   "cell_type": "code",
   "execution_count": null,
   "metadata": {},
   "outputs": [],
   "source": [
    "\"\"\"\n",
    "    'The Two Towers (The Lord of the Rings, #2)',\n",
    "    'Pride and Prejudice',\n",
    "    'And Then There Were None', \n",
    "    'Guards! Guards! (Discworld, #8)', \n",
    "    'Foundation (Foundation, #1)', \n",
    "    'The ABC Murders',\n",
    "    'Frankenstein'\n",
    "\"\"\"\n",
    "for book_title in [\n",
    "    'The Dark Forest (Remembrance of Earth\\'\\'s Past, #2)',\n",
    "    ]:\n",
    "    cur.execute('''\n",
    "                select review.id, review.text\n",
    "                from review\n",
    "                left join book on review.bookId = book.id\n",
    "                where book.title like '%s'\n",
    "                group by review.id, book.id\n",
    "    ''' % book_title)\n",
    "    df = pd.DataFrame(cur.fetchall(), columns=['id', 'text'])\n",
    "    print(f'Computing embeddings for {book_title}')\n",
    "    data = [\n",
    "        (\n",
    "            review['id'],\n",
    "            model.encode(review['text']).tolist()\n",
    "        )\n",
    "        for _, review in df.iterrows()\n",
    "    ]\n",
    "\n",
    "    execute_values(cur, 'insert into review_embed values %s', data)\n",
    "    con.commit()\n",
    "    "
   ]
  },
  {
   "cell_type": "code",
   "execution_count": null,
   "metadata": {},
   "outputs": [],
   "source": [
    "query_embedding = model.encode('fun and exciting mystery')\n",
    "cur.execute('''\n",
    "            select review.text, book.title\n",
    "            from review_embed\n",
    "            inner join review on review_embed.id = review.id\n",
    "            inner join book on review.bookId = book.id\n",
    "            order by embedding <=> '%s'\n",
    "            limit 15\n",
    "''' % query_embedding.tolist())\n",
    "\n",
    "df = pd.DataFrame(cur.fetchall(), columns=['text', 'title'])"
   ]
  },
  {
   "cell_type": "code",
   "execution_count": null,
   "metadata": {},
   "outputs": [],
   "source": [
    "df"
   ]
  }
 ],
 "metadata": {
  "kernelspec": {
   "display_name": "env",
   "language": "python",
   "name": "python3"
  },
  "language_info": {
   "codemirror_mode": {
    "name": "ipython",
    "version": 3
   },
   "file_extension": ".py",
   "mimetype": "text/x-python",
   "name": "python",
   "nbconvert_exporter": "python",
   "pygments_lexer": "ipython3",
   "version": "3.10.7"
  }
 },
 "nbformat": 4,
 "nbformat_minor": 2
}
